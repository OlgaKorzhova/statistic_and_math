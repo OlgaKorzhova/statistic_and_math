{
  "nbformat": 4,
  "nbformat_minor": 0,
  "metadata": {
    "colab": {
      "provenance": []
    },
    "kernelspec": {
      "name": "python3",
      "display_name": "Python 3"
    },
    "language_info": {
      "name": "python"
    }
  },
  "cells": [
    {
      "cell_type": "markdown",
      "source": [
        "**Урок 1**"
      ],
      "metadata": {
        "id": "B1CmP2dZp5Mq"
      }
    },
    {
      "cell_type": "markdown",
      "source": [
        "**Урок 1**"
      ],
      "metadata": {
        "id": "nJxnk8xprQcW"
      }
    },
    {
      "cell_type": "markdown",
      "source": [
        "**Задание 1**"
      ],
      "metadata": {
        "id": "Q9nCj5bxrWxf"
      }
    },
    {
      "cell_type": "markdown",
      "source": [
        "На складе лежат разные фрукты в разном количестве.\n",
        "Нужно написать функцию, которая на вход принимает любое количество названий фруктов и их количество,\n",
        "а возвращает общее количество фруктов на складе"
      ],
      "metadata": {
        "id": "Yt7CQWoRq_hl"
      }
    },
    {
      "cell_type": "code",
      "source": [
        "def count_fruits(**kwargs):\n",
        "        return(sum(kwargs.values()))\n",
        "\n",
        "print(\"На складе всего фруктов:\", count_fruits(Apple = 5, orange = 10, pear = 11))"
      ],
      "metadata": {
        "colab": {
          "base_uri": "https://localhost:8080/"
        },
        "id": "fWSzCFaTqI2B",
        "outputId": "5c0d26f3-b87c-4603-efb9-6cdcec11e200"
      },
      "execution_count": 1,
      "outputs": [
        {
          "output_type": "stream",
          "name": "stdout",
          "text": [
            "На складе всего фруктов: 26\n"
          ]
        }
      ]
    },
    {
      "cell_type": "markdown",
      "source": [
        "**Задание 2**"
      ],
      "metadata": {
        "id": "9dHW2hP_s0Lt"
      }
    },
    {
      "cell_type": "markdown",
      "source": [
        "Дан список с затратами на рекламу.\n",
        "Но в данных есть ошибки, некоторые затраты имеют отрицательную величину.\n",
        "Удалите такие значения из списка и посчитайте суммарные затраты [100, 125, -90, 345, 655, -1, 0, 200]\n",
        "Используйте list comprehensions"
      ],
      "metadata": {
        "id": "GQblJjp6s9LU"
      }
    },
    {
      "cell_type": "code",
      "source": [
        "old_list = [100, 125, -90, 345, 655, -1, 0, 200]\n",
        "new_list = [c for c in old_list if c >= 0]\n",
        "print(\"Новый список:\", new_list)\n",
        "sum_num_list = sum(new_list)\n",
        "print(\"Суммарные затраты:\", sum_num_list)"
      ],
      "metadata": {
        "colab": {
          "base_uri": "https://localhost:8080/"
        },
        "id": "x6VcjW1ctEFO",
        "outputId": "120caf11-5598-4c43-c015-e6bfd3028669"
      },
      "execution_count": 2,
      "outputs": [
        {
          "output_type": "stream",
          "name": "stdout",
          "text": [
            "Новый список: [100, 125, 345, 655, 0, 200]\n",
            "Суммарные затраты: 1425\n"
          ]
        }
      ]
    },
    {
      "cell_type": "markdown",
      "source": [
        "**Задание 3**"
      ],
      "metadata": {
        "id": "ubnhPc8HtKWi"
      }
    },
    {
      "cell_type": "markdown",
      "source": [
        "Даны два списка.\n",
        "Дата покупки\n",
        "['2021-09-14', '2021-12-15', '2021-09-08', '2021-12-05', '2021-10-09', '2021-09-30', '2021-12-22', '2021-11-29', '2021-12-24', '2021-11-26', '2021-10-27', '2021-12-18', '2021-11-09', '2021-11-23', '2021-09-27', '2021-10-02', '2021-12-27', '2021-09-20', '2021-12-13', '2021-11-01', '2021-11-09', '2021-12-06', '2021-12-08', '2021-10-09', '2021-10-31', '2021-09-30', '2021-11-09', '2021-12-13', '2021-10-26', '2021-12-09']\n",
        "Суммы покупок по датам\n",
        "[1270, 8413, 9028, 3703, 5739, 4095, 295, 4944, 5723, 3701, 4471, 651, 7037, 4274, 6275, 4988, 6930, 2971, 6592, 2004, 2822, 519, 3406, 2732, 5015, 2008, 316, 6333, 5700, 2887]"
      ],
      "metadata": {
        "id": "sOftJFS0thNO"
      }
    },
    {
      "cell_type": "markdown",
      "source": [
        "**Задание 3.1**"
      ],
      "metadata": {
        "id": "o7_0QJyLtmky"
      }
    },
    {
      "cell_type": "markdown",
      "source": [
        "Найдите, какая выручка у компании в ноябре\n",
        "Используйте list comprehensions"
      ],
      "metadata": {
        "id": "B-28gJtZtswX"
      }
    },
    {
      "cell_type": "code",
      "source": [
        "data_pay = ['2021-09-14', '2021-12-15', '2021-09-08', '2021-12-05', '2021-10-09', '2021-09-30', '2021-12-22', '2021-11-29', '2021-12-24', '2021-11-26', '2021-10-27', '2021-12-18', '2021-11-09', '2021-11-23', '2021-09-27', '2021-10-02', '2021-12-27', '2021-09-20', '2021-12-13', '2021-11-01', '2021-11-09', '2021-12-06', '2021-12-08', '2021-10-09', '2021-10-31', '2021-09-30', '2021-11-09', '2021-12-13', '2021-10-26', '2021-12-09']\n",
        "sum_pay = [1270, 8413, 9028, 3703, 5739, 4095, 295, 4944, 5723, 3701, 4471, 651, 7037, 4274, 6275, 4988, 6930, 2971, 6592, 2004, 2822, 519, 3406, 2732, 5015, 2008, 316, 6333, 5700, 2887]\n",
        "result = [sum_pay[i] for i in range(len(data_pay)) if data_pay[i].split(\"-\")[1] == \"11\"]\n",
        "print(\"Выручка компании в ноябре:\", sum(result))"
      ],
      "metadata": {
        "colab": {
          "base_uri": "https://localhost:8080/"
        },
        "id": "QC-4pbjvtv_R",
        "outputId": "106f074b-8bc0-4423-ce20-eff56becb535"
      },
      "execution_count": 3,
      "outputs": [
        {
          "output_type": "stream",
          "name": "stdout",
          "text": [
            "Выручка компании в ноябре: 25098\n"
          ]
        }
      ]
    },
    {
      "cell_type": "markdown",
      "source": [
        "**Задание 3.2**"
      ],
      "metadata": {
        "id": "Z4elAMlst0bQ"
      }
    },
    {
      "cell_type": "markdown",
      "source": [
        "Найдите выручку компании в зависимости от месяца\n",
        "Для этого напишите функцию, которая на вход принимает список с датами и список с выручкой,\n",
        "а на выходе словарь, где ключи - это месяцы, а значения - это выручка.\n",
        "Используйте аннотирование типов."
      ],
      "metadata": {
        "id": "nG7NXYoGt72F"
      }
    },
    {
      "cell_type": "code",
      "source": [
        "def revenue_month(date_: list, revenue: list) -> dict:\n",
        "    dict_ = {}\n",
        "    for i in range(len(date_)):\n",
        "        dict_[int(date_[i].split('-')[1])] = dict_.get(int(date_[i].split('-')[1]),0) + revenue[i]\n",
        "    return dict_\n",
        "print(\"Выручка компании в зависимости от месяца:\", revenue_month(data_pay, sum_pay))"
      ],
      "metadata": {
        "colab": {
          "base_uri": "https://localhost:8080/"
        },
        "id": "vjONmfyKt8yK",
        "outputId": "aebe81d7-bf8f-47d1-8661-330ff31a082b"
      },
      "execution_count": 4,
      "outputs": [
        {
          "output_type": "stream",
          "name": "stdout",
          "text": [
            "Выручка компании в зависимости от месяца: {9: 25647, 12: 45452, 10: 28645, 11: 25098}\n"
          ]
        }
      ]
    }
  ]
}