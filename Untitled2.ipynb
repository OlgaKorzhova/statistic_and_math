{
  "nbformat": 4,
  "nbformat_minor": 0,
  "metadata": {
    "colab": {
      "provenance": []
    },
    "kernelspec": {
      "name": "python3",
      "display_name": "Python 3"
    },
    "language_info": {
      "name": "python"
    }
  },
  "cells": [
    {
      "cell_type": "markdown",
      "source": [
        "**Урок 1**"
      ],
      "metadata": {
        "id": "B1CmP2dZp5Mq"
      }
    },
    {
      "cell_type": "markdown",
      "source": [
        "**Урок 1**"
      ],
      "metadata": {
        "id": "nJxnk8xprQcW"
      }
    },
    {
      "cell_type": "markdown",
      "source": [
        "**Задание 1**"
      ],
      "metadata": {
        "id": "Q9nCj5bxrWxf"
      }
    },
    {
      "cell_type": "markdown",
      "source": [
        "На складе лежат разные фрукты в разном количестве.\n",
        "Нужно написать функцию, которая на вход принимает любое количество названий фруктов и их количество,\n",
        "а возвращает общее количество фруктов на складе"
      ],
      "metadata": {
        "id": "Yt7CQWoRq_hl"
      }
    },
    {
      "cell_type": "code",
      "source": [
        "def count_fruits(**kwargs):\n",
        "        return(sum(kwargs.values()))\n",
        "\n",
        "print(\"На складе всего фруктов:\", count_fruits(Apple = 5, orange = 10, pear = 11))"
      ],
      "metadata": {
        "colab": {
          "base_uri": "https://localhost:8080/"
        },
        "id": "fWSzCFaTqI2B",
        "outputId": "5c0d26f3-b87c-4603-efb9-6cdcec11e200"
      },
      "execution_count": 1,
      "outputs": [
        {
          "output_type": "stream",
          "name": "stdout",
          "text": [
            "На складе всего фруктов: 26\n"
          ]
        }
      ]
    }
  ]
}