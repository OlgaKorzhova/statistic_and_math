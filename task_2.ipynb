{
 "cells": [
  {
   "attachments": {},
   "cell_type": "markdown",
   "metadata": {},
   "source": [
    "Урок 3\n",
    "Задание 1"
   ]
  },
  {
   "cell_type": "code",
   "execution_count": 3,
   "metadata": {},
   "outputs": [
    {
     "ename": "NameError",
     "evalue": "name 'pd' is not defined",
     "output_type": "error",
     "traceback": [
      "\u001b[1;31m---------------------------------------------------------------------------\u001b[0m",
      "\u001b[1;31mNameError\u001b[0m                                 Traceback (most recent call last)",
      "Cell \u001b[1;32mIn[3], line 1\u001b[0m\n\u001b[1;32m----> 1\u001b[0m df \u001b[39m=\u001b[39m pd\u001b[39m.\u001b[39mread_csv(\u001b[39m'\u001b[39m\u001b[39mkc_house_data.csv\u001b[39m\u001b[39m'\u001b[39m)\n",
      "\u001b[1;31mNameError\u001b[0m: name 'pd' is not defined"
     ]
    }
   ],
   "source": [
    "df = pd.read_csv('kc_house_data.csv')"
   ]
  },
  {
   "attachments": {},
   "cell_type": "markdown",
   "metadata": {},
   "source": [
    "1.1 Вывести на экран первые 5 строк"
   ]
  },
  {
   "cell_type": "code",
   "execution_count": null,
   "metadata": {},
   "outputs": [
    {
     "ename": "NameError",
     "evalue": "name 'df' is not defined",
     "output_type": "error",
     "traceback": [
      "\u001b[1;31m---------------------------------------------------------------------------\u001b[0m",
      "\u001b[1;31mNameError\u001b[0m                                 Traceback (most recent call last)",
      "Cell \u001b[1;32mIn[1], line 1\u001b[0m\n\u001b[1;32m----> 1\u001b[0m df\u001b[39m.\u001b[39mhead()\n",
      "\u001b[1;31mNameError\u001b[0m: name 'df' is not defined"
     ]
    }
   ],
   "source": [
    "df.head()"
   ]
  },
  {
   "attachments": {},
   "cell_type": "markdown",
   "metadata": {},
   "source": [
    "1.2 Создать новый признак delta_renovated, который будет содержать разницу в годах между годом реновацией дома и годом постройки дома. Если реновации дома не было, то в новом признаке поставьте 0"
   ]
  },
  {
   "cell_type": "code",
   "execution_count": null,
   "metadata": {},
   "outputs": [],
   "source": [
    "df['delta_renovated'] = df['yr_renovated'] - df['yr_built']\n",
    "df['delta_renovated'] = df['delta_renovated'].apply(lambda x: x if x > 0 else 0)\n",
    "df.head()"
   ]
  },
  {
   "attachments": {},
   "cell_type": "markdown",
   "metadata": {},
   "source": [
    "1.3 Создайте признаки года продажи, месяца продажи"
   ]
  },
  {
   "cell_type": "code",
   "execution_count": null,
   "metadata": {},
   "outputs": [],
   "source": [
    "df['year_sale'] = df['date'].map(lambda x: str(x)[:4])\n",
    "df['moth_sale'] = df['date'].map(lambda x: str(x)[4:6])\n",
    "df.head()"
   ]
  },
  {
   "attachments": {},
   "cell_type": "markdown",
   "metadata": {},
   "source": [
    "1.4 Удалите признаки date, zipcode, lat, long"
   ]
  },
  {
   "cell_type": "code",
   "execution_count": null,
   "metadata": {},
   "outputs": [],
   "source": [
    "df.drop(columns=['date', 'zipcode', 'lat', 'long'], inplace=True)\n",
    "df.head()"
   ]
  },
  {
   "attachments": {},
   "cell_type": "markdown",
   "metadata": {},
   "source": [
    "Задание 2\n",
    "Создайте датафрейм с клиентами:\n",
    "clients = pd.DataFrame({\n",
    "'client_id': [1459, 4684, 3498, 3942, 4535, 2308, 2866, 2765, 1472, 4236, 2295,\n",
    "939, 3840, 280, 20, 4332, 3475, 4213, 3113, 4809, 2134, 2242,\n",
    "2068, 4929, 1384, 1589, 3317, 2260, 1727, 1764, 1611, 1474],\n",
    "'house_id': [8965450190, 6823100225, 5104540330, 2131701075, 1522700060,\n",
    "1189000207, 6821600300, 7137950720, 9510920050, 6131600255,\n",
    "5428000070, 1788800910, 8100400160, 3123049142, 6306800010,\n",
    "5083000375, 7920100025, 1951600150, 809001400, 339600110,\n",
    "1622049154, 1099600250, 8563000110, 2768100205, 3995700435,\n",
    "8861700030, 3303980210, 7731100066, 8146100580, 825069097,\n",
    "3889100029, 9524100196]\n",
    "})"
   ]
  },
  {
   "cell_type": "code",
   "execution_count": null,
   "metadata": {},
   "outputs": [],
   "source": [
    "clients = pd.DataFrame({ \n",
    "    'client_id': [1459, 4684, 3498, 3942, 4535, 2308, 2866, 2765, 1472, 4236, \n",
    "                  2295, 939, 3840, 280, 20, 4332, 3475, 4213, 3113, 4809, \n",
    "                  2134, 2242, 2068, 4929, 1384, 1589, 3317, 2260, 1727, 1764, \n",
    "                  1611, 1474], \n",
    "    'house_id': [8965450190, 6823100225, 5104540330, 2131701075, 1522700060, 1189000207, \n",
    "                 6821600300, 7137950720, 9510920050, 6131600255, 5428000070, 1788800910, \n",
    "                 8100400160, 3123049142, 6306800010, 5083000375, 7920100025, 1951600150, \n",
    "                 809001400, 339600110, 1622049154, 1099600250, 8563000110, 2768100205, \n",
    "                 3995700435, 8861700030, 3303980210, 7731100066, 8146100580, 825069097, \n",
    "                 3889100029, 9524100196] })\n",
    "clients.head()"
   ]
  },
  {
   "attachments": {},
   "cell_type": "markdown",
   "metadata": {},
   "source": [
    "2.1 Присоедините к таблице clients данные по домам через метод join"
   ]
  },
  {
   "cell_type": "code",
   "execution_count": null,
   "metadata": {},
   "outputs": [],
   "source": [
    "copy_clients_join = clients.join(df)\n",
    "copy_clients_join.head()"
   ]
  },
  {
   "attachments": {},
   "cell_type": "markdown",
   "metadata": {},
   "source": [
    "2.2 Присоедините к таблице clients данные по домам через метод merge"
   ]
  },
  {
   "cell_type": "code",
   "execution_count": null,
   "metadata": {},
   "outputs": [],
   "source": [
    "df['client_id'] = df.index\n",
    "copy_clients_merge = clients.merge(df, on='client_id')\n",
    "copy_clients_merge.head()"
   ]
  },
  {
   "attachments": {},
   "cell_type": "markdown",
   "metadata": {},
   "source": [
    "Задание 3\n",
    "Составьте несколько сводных таблиц\n",
    "\n",
    "3.1 Найдите среднюю стоимость домов в зависимости от количества спален\n",
    "\n",
    "Отсортируйте от меньшей стоимости к большей"
   ]
  },
  {
   "cell_type": "code",
   "execution_count": null,
   "metadata": {},
   "outputs": [],
   "source": [
    "df.groupby('bedrooms').agg({'price': 'mean'}).sort_values('price')"
   ]
  },
  {
   "attachments": {},
   "cell_type": "markdown",
   "metadata": {},
   "source": [
    "3.2 Найдите минимальную, среднюю и максимальную стоимости домов в зависимости от состояния дома"
   ]
  },
  {
   "cell_type": "code",
   "execution_count": null,
   "metadata": {},
   "outputs": [],
   "source": [
    "df.groupby('condition').agg({'price': ['min', 'mean', 'max']})"
   ]
  },
  {
   "attachments": {},
   "cell_type": "markdown",
   "metadata": {},
   "source": [
    "3.3 Постройте таблицу с подсчетом количества домов в данных в зависимости от вида на набережную и оценкой вида"
   ]
  },
  {
   "cell_type": "code",
   "execution_count": null,
   "metadata": {},
   "outputs": [],
   "source": [
    "pd.pivot_table(df, index='waterfront', columns = 'view', values = 'id', aggfunc='count')"
   ]
  },
  {
   "attachments": {},
   "cell_type": "markdown",
   "metadata": {},
   "source": [
    "3.4 Каких домов в зависимости от этажности и количества спален больше?"
   ]
  },
  {
   "cell_type": "code",
   "execution_count": null,
   "metadata": {},
   "outputs": [],
   "source": [
    "pd.pivot_table(df, index='bedrooms', columns = 'floors', values = 'id', aggfunc='count')"
   ]
  },
  {
   "attachments": {},
   "cell_type": "markdown",
   "metadata": {},
   "source": [
    "3.5 Постройте таблицу с подсчетом медианной стоимости домов в данных в зависимости от состояния дома и оценки дома"
   ]
  },
  {
   "cell_type": "code",
   "execution_count": null,
   "metadata": {},
   "outputs": [],
   "source": [
    "pd.pivot_table(df, index='grade', columns ='condition', values = 'price', aggfunc='median')"
   ]
  }
 ],
 "metadata": {
  "kernelspec": {
   "display_name": "Python 3",
   "language": "python",
   "name": "python3"
  },
  "language_info": {
   "codemirror_mode": {
    "name": "ipython",
    "version": 3
   },
   "file_extension": ".py",
   "mimetype": "text/x-python",
   "name": "python",
   "nbconvert_exporter": "python",
   "pygments_lexer": "ipython3",
   "version": "3.11.4"
  },
  "orig_nbformat": 4
 },
 "nbformat": 4,
 "nbformat_minor": 2
}
